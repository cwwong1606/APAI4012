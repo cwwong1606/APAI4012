{
 "cells": [
  {
   "cell_type": "code",
   "execution_count": 1,
   "id": "9dd83ff4",
   "metadata": {},
   "outputs": [],
   "source": [
    "import numpy as np\n",
    "from copy import deepcopy"
   ]
  },
  {
   "cell_type": "code",
   "execution_count": 10,
   "id": "7d6b25ec",
   "metadata": {},
   "outputs": [],
   "source": [
    "dx = 0.02\n",
    "dt = 0.001\n",
    "r = dt/((dx)**2)\n",
    "x = np.arange(0, 1 + dx, dx)\n",
    "u_0 = (np.sin(np.pi*x))**2"
   ]
  },
  {
   "cell_type": "code",
   "execution_count": 3,
   "id": "652e9025",
   "metadata": {},
   "outputs": [],
   "source": [
    "A = np.zeros((len(x), len(x)))\n",
    "A[np.arange(len(x)), np.arange(len(x))] = (1 - 2*r)\n",
    "A[np.arange(len(x)) - 1, np.arange(len(x))] = r\n",
    "A[np.arange(len(x)), np.arange(len(x)) - 1] = r\n",
    "A[0, -1] = 0\n",
    "A[-1, 0] = 0\n",
    "A[0, 1] = 2*r\n",
    "A[-1, -2] = 2*r"
   ]
  },
  {
   "cell_type": "code",
   "execution_count": 4,
   "id": "52155b99",
   "metadata": {},
   "outputs": [
    {
     "name": "stdout",
     "output_type": "stream",
     "text": [
      "When T_f = 5, u(x, T_f) = \n",
      "[0.09113272 0.09436188 0.10399898 0.1198937  0.14179803 0.16936999\n",
      " 0.20217884 0.2397116  0.28138087 0.3265338  0.37446211 0.42441307\n",
      " 0.47560109 0.52722007 0.57845594 0.62849957 0.67655958 0.72187493\n",
      " 0.76372716 0.80145192 0.83444974 0.86219577 0.88424833 0.90025613\n",
      " 0.90996405 0.91321732 0.90996405 0.90025613 0.88424833 0.86219577\n",
      " 0.83444974 0.80145192 0.76372716 0.72187493 0.67655958 0.62849957\n",
      " 0.57845594 0.52722007 0.47560109 0.42441307 0.37446211 0.3265338\n",
      " 0.28138087 0.2397116  0.20217884 0.16936999 0.14179803 0.1198937\n",
      " 0.10399898 0.09436188 0.09113272]\n"
     ]
    }
   ],
   "source": [
    "u = deepcopy(u_0)\n",
    "for i in range(5):\n",
    "    u = A@u + dt*u**2\n",
    "print('When T_f = 5, u(x, T_f) = ')\n",
    "print(u)"
   ]
  },
  {
   "cell_type": "code",
   "execution_count": 5,
   "id": "3314e9de",
   "metadata": {},
   "outputs": [
    {
     "name": "stdout",
     "output_type": "stream",
     "text": [
      "When T_f = 5, u(x, T_f) = \n",
      "[0.09113272 0.09436188 0.10399898 0.1198937  0.14179803 0.16936999\n",
      " 0.20217884 0.2397116  0.28138087 0.3265338  0.37446211 0.42441307\n",
      " 0.47560109 0.52722007 0.57845594 0.62849957 0.67655958 0.72187493\n",
      " 0.76372716 0.80145192 0.83444974 0.86219577 0.88424833 0.90025613\n",
      " 0.90996405 0.91321732 0.90996405 0.90025613 0.88424833 0.86219577\n",
      " 0.83444974 0.80145192 0.76372716 0.72187493 0.67655958 0.62849957\n",
      " 0.57845594 0.52722007 0.47560109 0.42441307 0.37446211 0.3265338\n",
      " 0.28138087 0.2397116  0.20217884 0.16936999 0.14179803 0.1198937\n",
      " 0.10399898 0.09436188 0.09113272]\n"
     ]
    }
   ],
   "source": [
    "u = deepcopy(u_0)\n",
    "for i in range(5):\n",
    "    u = A@u + dt*u**2\n",
    "print('When T_f = 5, u(x, T_f) = ')\n",
    "print(u)"
   ]
  },
  {
   "cell_type": "code",
   "execution_count": 6,
   "id": "6e3863e4",
   "metadata": {},
   "outputs": [
    {
     "name": "stdout",
     "output_type": "stream",
     "text": [
      "When T_f = 10, u(x, T_f) = \n",
      "[0.16592263 0.1685739  0.17648664 0.1895378  0.20752451 0.230167\n",
      " 0.2571125  0.28794127 0.32217168 0.35926912 0.39865225 0.43970395\n",
      " 0.48177864 0.52421468 0.56634218 0.60749617 0.64702473 0.68430137\n",
      " 0.7187339  0.74977448 0.77692864 0.79976336 0.8179135  0.83108975\n",
      " 0.83908041 0.8417585  0.83908048 0.83108964 0.81791361 0.79976328\n",
      " 0.77692867 0.74977449 0.71873388 0.68430138 0.64702476 0.60749609\n",
      " 0.56634233 0.52421447 0.48177888 0.43970369 0.39865249 0.35926889\n",
      " 0.32217188 0.2879411  0.25711263 0.23016691 0.20752458 0.18953775\n",
      " 0.17648668 0.16857387 0.16592266]\n"
     ]
    }
   ],
   "source": [
    "u = deepcopy(u_0)\n",
    "for i in range(10):\n",
    "    u = A@u + dt*u**2\n",
    "print('When T_f = 10, u(x, T_f) = ')\n",
    "print(u)"
   ]
  },
  {
   "cell_type": "code",
   "execution_count": 7,
   "id": "2aeb4c44",
   "metadata": {},
   "outputs": [
    {
     "name": "stdout",
     "output_type": "stream",
     "text": [
      "When T_f = 20, u(x, T_f) = \n",
      "[  20.24236691  -13.91308818   -2.46712703   29.98598938  -63.76708695\n",
      "  102.84294143 -139.70927232  175.14776384 -201.8934573   226.0730689\n",
      " -239.62719999  249.96478184 -244.57824721  230.38877028 -197.23054702\n",
      "  158.65991525 -117.08159316   92.48895303  -89.96893852  119.10240864\n",
      " -166.48281434  223.93670199 -263.0358571   281.51324325 -262.1815629\n",
      "  224.8703461  -170.38179766  121.47199446  -78.13778664   49.4846051\n",
      "  -26.57148514    9.17179773   16.03626855  -51.75530895  109.13927463\n",
      " -182.92281859  273.95516325 -359.31324028  439.05156062 -480.32241167\n",
      "  502.06945875 -477.64752316  441.73445452 -380.5396487   325.25037238\n",
      " -269.16728023  229.20185364 -197.89793974  180.98606597 -170.0699012\n",
      "  168.4023627 ]\n"
     ]
    }
   ],
   "source": [
    "u = deepcopy(u_0)\n",
    "for i in range(20):\n",
    "    u = A@u + dt*u**2\n",
    "print('When T_f = 20, u(x, T_f) = ')\n",
    "print(u)"
   ]
  },
  {
   "cell_type": "code",
   "execution_count": 8,
   "id": "b6bfd5ed",
   "metadata": {},
   "outputs": [
    {
     "name": "stdout",
     "output_type": "stream",
     "text": [
      "When T_f = 40, u(x, T_f) = \n",
      "[nan nan nan nan nan nan nan nan nan nan nan nan nan nan nan nan nan nan\n",
      " nan nan nan nan nan nan nan nan nan nan nan nan nan nan nan nan nan nan\n",
      " nan nan nan nan nan nan nan nan nan nan nan nan nan nan nan]\n"
     ]
    },
    {
     "name": "stderr",
     "output_type": "stream",
     "text": [
      "/tmp/ipykernel_3144394/145802682.py:3: RuntimeWarning: overflow encountered in square\n",
      "  u = A@u + dt*u**2\n",
      "/tmp/ipykernel_3144394/145802682.py:3: RuntimeWarning: invalid value encountered in matmul\n",
      "  u = A@u + dt*u**2\n"
     ]
    }
   ],
   "source": [
    "u = deepcopy(u_0)\n",
    "for i in range(40):\n",
    "    u = A@u + dt*u**2\n",
    "print('When T_f = 40, u(x, T_f) = ')\n",
    "print(u)"
   ]
  },
  {
   "cell_type": "code",
   "execution_count": 21,
   "id": "9aeafe42",
   "metadata": {},
   "outputs": [
    {
     "name": "stdout",
     "output_type": "stream",
     "text": [
      "After computing dt dynamic according to the stable condition\n",
      "When T_f = 40, u(x, T_f) =\n",
      "[0.07312124 0.07649115 0.08654821 0.10313518 0.12599268 0.15476312\n",
      " 0.18899614 0.22815555 0.27162753 0.31873005 0.36872345 0.42082188\n",
      " 0.47420552 0.52803343 0.58145672 0.63363195 0.68373449 0.73097161\n",
      " 0.77459521 0.81391373 0.84830335 0.87721804 0.90019838 0.91687906\n",
      " 0.9269948  0.9303847  0.9269948  0.91687906 0.90019838 0.87721804\n",
      " 0.84830335 0.81391373 0.77459521 0.73097161 0.68373449 0.63363195\n",
      " 0.58145672 0.52803343 0.47420552 0.42082188 0.36872345 0.31873005\n",
      " 0.27162753 0.22815555 0.18899614 0.15476312 0.12599268 0.10313518\n",
      " 0.08654821 0.07649115 0.07312124]\n"
     ]
    }
   ],
   "source": [
    "u = deepcopy(u_0)\n",
    "for i in range(40):\n",
    "    dx = 0.02\n",
    "    dt = 0.5*(2*(dx**2))/(4 - (1 - u.min())*(dx**2))\n",
    "    r = dt/((dx)**2)\n",
    "    \n",
    "    A = np.zeros((len(x), len(x)))\n",
    "    A[np.arange(len(x)), np.arange(len(x))] = (1 - 2*r)\n",
    "    A[np.arange(len(x)) - 1, np.arange(len(x))] = r\n",
    "    A[np.arange(len(x)), np.arange(len(x)) - 1] = r\n",
    "    A[0, -1] = 0\n",
    "    A[-1, 0] = 0\n",
    "    A[0, 1] = 2*r\n",
    "    A[-1, -2] = 2*r\n",
    "    u = A@u + dt*u**2\n",
    "    \n",
    "print('After computing dt dynamic according to the stable condition')\n",
    "print('When T_f = 40, u(x, T_f) =')\n",
    "print(u)"
   ]
  }
 ],
 "metadata": {
  "kernelspec": {
   "display_name": "tf2",
   "language": "python",
   "name": "tf2"
  },
  "language_info": {
   "codemirror_mode": {
    "name": "ipython",
    "version": 3
   },
   "file_extension": ".py",
   "mimetype": "text/x-python",
   "name": "python",
   "nbconvert_exporter": "python",
   "pygments_lexer": "ipython3",
   "version": "3.8.10"
  }
 },
 "nbformat": 4,
 "nbformat_minor": 5
}
